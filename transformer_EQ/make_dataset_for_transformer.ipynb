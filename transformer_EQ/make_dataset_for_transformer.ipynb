{
 "cells": [
  {
   "cell_type": "code",
   "execution_count": 1,
   "metadata": {},
   "outputs": [],
   "source": [
    "import pandas as pd\n",
    "import numpy as np\n",
    "from pathlib import Path"
   ]
  },
  {
   "cell_type": "markdown",
   "metadata": {},
   "source": [
    "## Load files, select according to frequency"
   ]
  },
  {
   "cell_type": "code",
   "execution_count": 2,
   "metadata": {},
   "outputs": [],
   "source": [
    "base_path = '/project2/ishanu/YI_EARTHQUAKE_current/'\n",
    "save_path = f'{base_path}/transformer/datasets/'\n",
    "fnames = np.array(list((Path(f'{base_path}/split').glob('*'))))"
   ]
  },
  {
   "cell_type": "code",
   "execution_count": null,
   "metadata": {},
   "outputs": [],
   "source": [
    "# load split files\n",
    "freqs = []\n",
    "for i, fname in enumerate(fnames):\n",
    "    with open(fname, 'r') as fh:\n",
    "        data = np.genfromtxt(fh)\n",
    "        freq = sum(data > 0) / len(data)\n",
    "        freqs.append(freq)\n",
    "freqs = np.array(freqs)\n",
    "\n",
    "# select sequence with \n",
    "# NOTE: only use lower and upper with one decimal place\n",
    "# if using numbers with higher precision, \n",
    "# make sure to modify the filename\n",
    "lower, upper = .1, .2\n",
    "fnames_selected = fnames[ (freqs > lower) & (freqs < upper) ]\n",
    "stem_fname = f'{save_path}/split_selected_{int(lower * 10)}-{int(upper * 10)}.txt'\n",
    "with open(stem_fname, 'w') as fh:\n",
    "    np.savetxt(fh, fnames_selected, fmt='%s')"
   ]
  },
  {
   "cell_type": "markdown",
   "metadata": {},
   "source": [
    "## Form and save train and test datasets"
   ]
  },
  {
   "cell_type": "code",
   "execution_count": null,
   "metadata": {},
   "outputs": [],
   "source": [
    "def get_train_test(data, len_train, input_len=50, output_len=1):\n",
    "    \n",
    "    \"\"\"\n",
    "    Form train and test input-output pairs\n",
    "    Input\n",
    "    \"\"\"\n",
    "    # Form train input and output\n",
    "    total_len = input_len + output_len\n",
    "    num_train_pairs = len_train - total_len + 1\n",
    "    train_input = []\n",
    "    train_output = []\n",
    "    for i in range(num_train_pairs):\n",
    "        train_input.append(data[i: i + input_len])\n",
    "        train_output.append(data[i + input_len: i + input_len + output_len])\n",
    "\n",
    "    # Form test input and output\n",
    "    test_input = []\n",
    "    test_output = []\n",
    "    num_test_pairs = (len(data) - len_train) - output_len + 1\n",
    "    for i in range(num_test_pairs):\n",
    "        test_input.append(data[len_train + i - input_len: len_train + i])\n",
    "        test_output.append(data[len_train + i: len_train + i + output_len])\n",
    "    \n",
    "    return train_input, train_output, test_input, test_output"
   ]
  },
  {
   "cell_type": "code",
   "execution_count": null,
   "metadata": {},
   "outputs": [],
   "source": [
    "def save_input_output(fname, input, output):\n",
    "    assert len(input) == len(output), 'input and output have differnet length'\n",
    "    lines =  [' '.join(map(str, i)) + '\\t' + ' '.join(map(str, o)) + '\\n' \n",
    "              for i, o in zip(input, output)]\n",
    "    with open(fname, 'w') as fh:\n",
    "        fh.writelines(lines)"
   ]
  },
  {
   "cell_type": "markdown",
   "metadata": {},
   "source": [
    "###  Get train and test length"
   ]
  },
  {
   "cell_type": "code",
   "execution_count": null,
   "metadata": {},
   "outputs": [],
   "source": [
    "len_train = len(pd.date_range(start='2009-01-01', end='2019-12-31', freq='1D')) // 3\n",
    "len_test = len(pd.date_range(start='2020-01-01', end='2020-08-21', freq='1D')) // 3\n",
    "print(f'train length = {len_train}')\n",
    "print(f'test length = {len_test}')"
   ]
  },
  {
   "cell_type": "code",
   "execution_count": null,
   "metadata": {},
   "outputs": [],
   "source": [
    "input_len = 50\n",
    "output_len = 1\n",
    "\n",
    "with open(f'{save_path}/split_selected_1-2.txt', 'r') as fh:\n",
    "    for line in fh:\n",
    "        fname = line.strip()\n",
    "        data = np.genfromtxt(fname)\n",
    "        data[data > 0] = 1\n",
    "        data = data.astype(int)\n",
    "        train_input, train_output, test_input, test_output = get_train_test(data, len_train, input_len, output_len)\n",
    "\n",
    "        \n",
    "        prefix = fname.split('/')[-1]\n",
    "        train_fname = f'{save_path}/{prefix}_train.dat'\n",
    "        save_input_output(train_fname, train_input, train_output)\n",
    "        \n",
    "        test_fname = f'{save_path}/{prefix}_test.dat'\n",
    "        save_input_output(test_fname, test_input, test_output)"
   ]
  },
  {
   "cell_type": "code",
   "execution_count": null,
   "metadata": {},
   "outputs": [],
   "source": []
  }
 ],
 "metadata": {
  "kernelspec": {
   "display_name": "Python 3",
   "language": "python",
   "name": "python3"
  },
  "language_info": {
   "codemirror_mode": {
    "name": "ipython",
    "version": 3
   },
   "file_extension": ".py",
   "mimetype": "text/x-python",
   "name": "python",
   "nbconvert_exporter": "python",
   "pygments_lexer": "ipython3",
   "version": "3.7.6"
  }
 },
 "nbformat": 4,
 "nbformat_minor": 4
}
