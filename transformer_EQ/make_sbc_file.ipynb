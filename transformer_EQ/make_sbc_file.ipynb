{
 "cells": [
  {
   "cell_type": "code",
   "execution_count": 1,
   "id": "ff7046e7-01dc-47ea-a8ee-74730eef5412",
   "metadata": {},
   "outputs": [],
   "source": [
    "from pathlib import Path\n",
    "import pandas as pd"
   ]
  },
  {
   "cell_type": "code",
   "execution_count": 2,
   "id": "06184110-53f7-4191-8e4c-79ae4dcfc39a",
   "metadata": {},
   "outputs": [],
   "source": [
    "def make_sbc(config, sbc_name, cmds):\n",
    "    with open(sbc_name, 'w') as fh:\n",
    "        fh.write('#!/bin/bash\\n')\n",
    "        \n",
    "        # SBATCH parameters\n",
    "        account = config['account']\n",
    "        fh.write(f'#SBATCH --account {account}\\n')\n",
    "        \n",
    "        for key, val in config.items():\n",
    "            if key == 'account':\n",
    "                continue\n",
    "            fh.write(f'#SBATCH --{key}={val}\\n')\n",
    "\n",
    "        fh.write('\\n')\n",
    "\n",
    "        for cmd in cmds:\n",
    "            fh.write(f'srun --unbuffered {cmd}\\n')"
   ]
  },
  {
   "cell_type": "code",
   "execution_count": 3,
   "id": "e93491d1-ff46-4775-a243-584dd7d3f624",
   "metadata": {},
   "outputs": [],
   "source": [
    "epoch = 25\n",
    "time = '2:00:00'\n",
    "\n",
    "folder_base = '/hpcgpfs01/scratch/yhuang2/UChicago/transformer/'\n",
    "\n",
    "script_gen = f'{folder_base}/generate_model.py'\n",
    "script_run = f'{folder_base}/run_model.py'\n",
    "\n",
    "checkpoint_folder = Path(f'{folder_base}/checkpoints')\n",
    "result_folder = Path(f'{folder_base}/results')\n",
    "runfile_folder = Path(f'{folder_base}/runfiles')\n",
    "\n",
    "data_folder = Path(f'{folder_base}/datasets/')\n",
    "data_train = sorted(data_folder.glob('*train.dat'))\n",
    "data_test = sorted(data_folder.glob('*test.dat'))"
   ]
  },
  {
   "cell_type": "code",
   "execution_count": 4,
   "id": "8269a17c-cc0e-4d11-a22f-d1f43c06841b",
   "metadata": {},
   "outputs": [],
   "source": [
    "config = {\n",
    "    'account': 'mlg-core',\n",
    "    'partition': 'volta',\n",
    "    'nodes': 1,\n",
    "    'ntasks': 1,\n",
    "    'gres': 'gpu:1',\n",
    "    'time': time,\n",
    "    # 'job-name': job_name,\n",
    "    # 'output': out_name,\n",
    "    # 'error': err_name\n",
    "}"
   ]
  },
  {
   "cell_type": "code",
   "execution_count": 5,
   "id": "b1570d7b-d0ce-4232-9e28-1ce3fec09e91",
   "metadata": {},
   "outputs": [],
   "source": [
    "record = []\n",
    "sbc_files = []\n",
    "for i, (train_file, test_file) in enumerate(zip(data_train, data_test)):\n",
    "    prefix = train_file.stem.replace('_train', '')\n",
    "    record.append([i, prefix])\n",
    "    model_name = checkpoint_folder/prefix\n",
    "    output_name = result_folder/f'{prefix}_out.dat'\n",
    "    cmd_gen = f'python {script_gen} {model_name} {train_file} {epoch}'\n",
    "    cmd_run = f'python {script_run} {model_name} {test_file} {output_name}'\n",
    "    \n",
    "    cmds = [cmd_gen, cmd_run]\n",
    "    \n",
    "    job = f'TransEQ_{str(i).zfill(2)}'\n",
    "    config['job-name'] = job\n",
    "    config['output'] = f'{job}.out'\n",
    "    config['error'] = f'{job}.err'\n",
    "    \n",
    "    sbc_file = runfile_folder/f'{job}.sbc'\n",
    "    make_sbc(config, sbc_file, cmds)\n",
    "    sbc_files.append(sbc_file)\n",
    "    \n",
    "df = pd.DataFrame(record, columns=['no.', 'dataset'])\n",
    "df.to_csv(result_folder/'dataset.csv', index=False)"
   ]
  },
  {
   "cell_type": "code",
   "execution_count": 10,
   "id": "50cec7dc-5a18-44b9-b90b-3e4f3d60ac4b",
   "metadata": {},
   "outputs": [
    {
     "name": "stdout",
     "output_type": "stream",
     "text": [
      "/hpcgpfs01/scratch/yhuang2/UChicago/transformer/runfiles/launch_00-14.sh\n",
      "/hpcgpfs01/scratch/yhuang2/UChicago/transformer/runfiles/launch_15-29.sh\n",
      "/hpcgpfs01/scratch/yhuang2/UChicago/transformer/runfiles/launch_30-44.sh\n",
      "/hpcgpfs01/scratch/yhuang2/UChicago/transformer/runfiles/launch_45-59.sh\n",
      "/hpcgpfs01/scratch/yhuang2/UChicago/transformer/runfiles/launch_60-74.sh\n"
     ]
    }
   ],
   "source": [
    "batch_size = 15\n",
    "num_batches = (len(data_train) - 1) // 15 + 1\n",
    "\n",
    "for i in range(num_batches): \n",
    "    start = i * batch_size\n",
    "    end = min((i + 1) * batch_size, len(sbc_files))\n",
    "    str_start = str(start).zfill(2)\n",
    "    str_end = str(end - 1).zfill(2)\n",
    "    \n",
    "    lauch_file = f'{runfile_folder}/launch_{str_start}-{str_end}.sh'\n",
    "    print(lauch_file)\n",
    "    with open(lauch_file, 'w') as fh:\n",
    "        fh.write('#!/bin/bash\\n')\n",
    "        for sbc_file in sbc_files[start: end]:\n",
    "            fh.write(f'sbatch {sbc_file}\\n')"
   ]
  },
  {
   "cell_type": "code",
   "execution_count": null,
   "id": "b78336d1-106b-4cb1-a8fa-8703ff9c3295",
   "metadata": {},
   "outputs": [],
   "source": []
  }
 ],
 "metadata": {
  "kernelspec": {
   "display_name": "yi_test",
   "language": "python",
   "name": "yi_test"
  },
  "language_info": {
   "codemirror_mode": {
    "name": "ipython",
    "version": 3
   },
   "file_extension": ".py",
   "mimetype": "text/x-python",
   "name": "python",
   "nbconvert_exporter": "python",
   "pygments_lexer": "ipython3",
   "version": "3.9.1"
  }
 },
 "nbformat": 4,
 "nbformat_minor": 5
}
