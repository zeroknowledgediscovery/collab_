{
 "cells": [
  {
   "cell_type": "code",
   "execution_count": 49,
   "id": "fcbce579-cc9c-44d4-a7ac-442e82808a93",
   "metadata": {},
   "outputs": [],
   "source": [
    "from pathlib import Path\n",
    "import numpy as np\n",
    "import pandas as pd\n",
    "from subprocess import check_output\n",
    "import matplotlib.pyplot as plt\n",
    "%matplotlib inline"
   ]
  },
  {
   "cell_type": "code",
   "execution_count": 50,
   "id": "b5055306-0d8b-41ed-9a14-8774971443f1",
   "metadata": {},
   "outputs": [],
   "source": [
    "# folder_base = Path('/hpcgpfs01/scratch/yhuang2/UChicago/transformer/')\n",
    "# result_folder = folder_base/'results'\n",
    "# grt_prd_folder = result_folder/'grt_prd'"
   ]
  },
  {
   "cell_type": "code",
   "execution_count": 52,
   "id": "e95e4408-3d9f-4141-be93-7773d928b39f",
   "metadata": {},
   "outputs": [],
   "source": [
    "# grt_prd_fnames = list(grt_prd_folder.glob('*.dat'))\n",
    "# df = pd.read_csv(grt_prd_fnames[0], names=['grt', 'prd'], sep=' ')\n",
    "# df['prd_relaxed'] = (df['prd'].rolling(3, center=True, min_periods=1).sum() > 0).astype(int)"
   ]
  },
  {
   "cell_type": "code",
   "execution_count": 32,
   "id": "4db65fa1-ddea-4051-8f04-e90614227e87",
   "metadata": {},
   "outputs": [],
   "source": [
    "# def foo(df, col):\n",
    "#     df['TP'] = df['grt'] * df[col]\n",
    "#     df['FP'] = (1 - df['grt']) * df[col] \n",
    "#     df['TN'] = (1 - df['grt']) * (1 - df[col])\n",
    "#     df['FN'] = df['grt'] * (1 - df[col])\n",
    "\n",
    "\n",
    "# def precision_recall(df, col):\n",
    "#     foo(df, col)\n",
    "#     tp = df['TP'].sum()\n",
    "#     fp = df['FP'].sum()\n",
    "#     fn = df['FN'].sum()\n",
    "#     precision = tp / (tp + fp)\n",
    "#     recall = tp / (tp + fn)\n",
    "#     return [precision, recall]\n",
    "\n",
    "\n",
    "# def get_precision_recall(fname, relaxed=True):\n",
    "#     df = pd.read_csv(fname, names=['grt', 'prd'], sep=' ')\n",
    "#     if relaxed:\n",
    "#         df['prd_relaxed'] = (df['prd'].rolling(3, center=True, min_periods=1).sum() > 0).astype(int)\n",
    "#         return precision_recall(df, 'prd_relaxed')\n",
    "#     else:\n",
    "#         return precision_recall(df, 'prd')"
   ]
  },
  {
   "cell_type": "code",
   "execution_count": 53,
   "id": "82bea787-10b8-477a-b8e9-b80dffd63f85",
   "metadata": {},
   "outputs": [],
   "source": [
    "# grt_prd_fnames = list(grt_prd_folder.glob('*.dat'))\n",
    "\n",
    "# prs = []\n",
    "# for fname in grt_prd_fnames:\n",
    "#     pr = get_precision_recall(fname)\n",
    "#     prs.append(pr)\n",
    "\n",
    "# prs = np.array(prs)\n",
    "# fig, ax = plt.subplots(1, 1)\n",
    "# ax.scatter(prs[:, 1], prs[:, 0])\n",
    "# ax.set_xlabel('recall')\n",
    "# ax.set_ylabel('precision')\n",
    "# ax.set_xlim(0, 1)\n",
    "# ax.set_ylim(0, 1)\n",
    "# ax.set_aspect(1)"
   ]
  },
  {
   "cell_type": "code",
   "execution_count": 56,
   "id": "a981afec-e0f0-4d79-a92e-13552ec93571",
   "metadata": {},
   "outputs": [],
   "source": [
    "folder_base = Path('/hpcgpfs01/scratch/yhuang2/UChicago/transformer/')\n",
    "result_folder = folder_base/'results'\n",
    "grt_prd_folder = result_folder/'grt_prd'\n",
    "\n",
    "grt_prd_fnames = list(grt_prd_folder.glob('*fraction.dat'))"
   ]
  },
  {
   "cell_type": "code",
   "execution_count": 57,
   "id": "26a4959e-d9f1-46e5-808e-8f190c96e9e5",
   "metadata": {},
   "outputs": [
    {
     "data": {
      "text/plain": [
       "0.7774556338028169"
      ]
     },
     "execution_count": 57,
     "metadata": {},
     "output_type": "execute_result"
    }
   ],
   "source": [
    "fnames = []\n",
    "aucs = []\n",
    "for fname in grt_prd_fnames:\n",
    "    fnames.append(fname.stem.rstrip('_grt-prd_fraction.dat'))\n",
    "    output = check_output(f'bin/flexroc -i {fname} -E 0 -C 1', shell=True).decode('utf-8')\n",
    "    auc = float(output.split()[1])\n",
    "    aucs.append(auc)\n",
    "\n",
    "np.mean(aucs)"
   ]
  },
  {
   "cell_type": "code",
   "execution_count": 60,
   "id": "c77056b0-3d6c-4cbd-9c5c-479eef563df6",
   "metadata": {},
   "outputs": [],
   "source": [
    "pd.DataFrame({'fname': fnames, 'auc': aucs}).to_csv(\n",
    "    'Transformer_Earthquake_AUC.csv', \n",
    "    float_format='%.6f', \n",
    "    index=False)"
   ]
  },
  {
   "cell_type": "code",
   "execution_count": 61,
   "id": "fc3cd3bc-2093-48e6-a247-105473b580a8",
   "metadata": {},
   "outputs": [
    {
     "data": {
      "text/plain": [
       "PosixPath('/hpcgpfs01/scratch/yhuang2/UChicago/transformer/results/grt_prd/2009-01-01_2020-08-21-9.0#-6.0#156.0#159.0#VAR_grt-prd_fraction.dat')"
      ]
     },
     "execution_count": 61,
     "metadata": {},
     "output_type": "execute_result"
    }
   ],
   "source": [
    "fname"
   ]
  },
  {
   "cell_type": "code",
   "execution_count": null,
   "id": "daa647cd-4075-4067-ad55-b96f18c91e20",
   "metadata": {},
   "outputs": [],
   "source": []
  }
 ],
 "metadata": {
  "kernelspec": {
   "display_name": "yi_test",
   "language": "python",
   "name": "yi_test"
  },
  "language_info": {
   "codemirror_mode": {
    "name": "ipython",
    "version": 3
   },
   "file_extension": ".py",
   "mimetype": "text/x-python",
   "name": "python",
   "nbconvert_exporter": "python",
   "pygments_lexer": "ipython3",
   "version": "3.9.1"
  }
 },
 "nbformat": 4,
 "nbformat_minor": 5
}
