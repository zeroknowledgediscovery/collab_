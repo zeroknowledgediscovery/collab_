{
 "cells": [
  {
   "cell_type": "code",
   "execution_count": null,
   "id": "da2df32a-b51d-420c-a268-5e20a34faf73",
   "metadata": {},
   "outputs": [],
   "source": [
    "from pathlib import Path\n",
    "import numpy as np"
   ]
  },
  {
   "cell_type": "code",
   "execution_count": null,
   "id": "1a7150af-8966-44ed-8ca0-4f5f1b03a88c",
   "metadata": {},
   "outputs": [],
   "source": [
    "folder_base = Path('/hpcgpfs01/scratch/yhuang2/UChicago/transformer/')\n",
    "data_folder = folder_base/'datasets'\n",
    "result_folder = folder_base/'results'\n",
    "grt_prd_folder = result_folder/'grt_prd'\n",
    "\n",
    "test = sorted(data_folder.glob('*test.dat'))\n",
    "result = sorted(result_folder.glob('*out.dat'))"
   ]
  },
  {
   "cell_type": "code",
   "execution_count": null,
   "id": "c8dfb60c-5761-4f47-806f-ff7da71f1cd1",
   "metadata": {},
   "outputs": [],
   "source": [
    "for t, r in zip(test, result):\n",
    "    \n",
    "    ground_truth = []\n",
    "    with open(t, 'r') as tf:\n",
    "        for line in tf:\n",
    "            grt = int(line.split()[-1])\n",
    "            ground_truth.append(grt)\n",
    "    \n",
    "    error_count = 0\n",
    "    prediction = []\n",
    "    with open(r, 'r') as rf:\n",
    "        for line in rf:\n",
    "            line = line.split()\n",
    "            if not line:\n",
    "                error_count += 1\n",
    "                \n",
    "                prd = -1\n",
    "            else:\n",
    "                prd = sum(map(int, line)) / len(line)\n",
    "                print(sum(map(int, line)) / len(line))\n",
    "            prediction.append(prd)\n",
    "    if error_count > 0:\n",
    "        print(f'{error_count} missing predictions, {r.stem}')\n",
    "    else:\n",
    "        grt_prd_file = r.stem.rstrip('_out') + '_grt-prd_fraction.dat'\n",
    "        grt_prd = np.array([ground_truth, prediction]).T\n",
    "        # print(grt_prd)\n",
    "        print(grt_prd)\n",
    "        np.savetxt(grt_prd_folder/grt_prd_file, grt_prd, delimiter=' ', fmt='%i %.6f')"
   ]
  },
  {
   "cell_type": "code",
   "execution_count": null,
   "id": "80bd74a0-53b1-4b2a-93c9-b512f146dff0",
   "metadata": {},
   "outputs": [],
   "source": []
  }
 ],
 "metadata": {
  "kernelspec": {
   "display_name": "yi_test",
   "language": "python",
   "name": "yi_test"
  },
  "language_info": {
   "codemirror_mode": {
    "name": "ipython",
    "version": 3
   },
   "file_extension": ".py",
   "mimetype": "text/x-python",
   "name": "python",
   "nbconvert_exporter": "python",
   "pygments_lexer": "ipython3",
   "version": "3.9.1"
  }
 },
 "nbformat": 4,
 "nbformat_minor": 5
}
